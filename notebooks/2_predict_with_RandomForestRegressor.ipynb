{
 "cells": [
  {
   "cell_type": "code",
   "execution_count": 1,
   "id": "61edc40b",
   "metadata": {},
   "outputs": [
    {
     "data": {
      "text/plain": [
       "'PJATK/semestr4/ADD/Covid19_Prediction'"
      ]
     },
     "execution_count": 1,
     "metadata": {},
     "output_type": "execute_result"
    }
   ],
   "source": [
    "import os\n",
    "os.chdir(\"..\")\n",
    "pwd = %pwd\n",
    "pwd[12:]"
   ]
  },
  {
   "cell_type": "code",
   "execution_count": 2,
   "id": "92f22ae0",
   "metadata": {},
   "outputs": [],
   "source": [
    "import pandas as pd"
   ]
  },
  {
   "cell_type": "code",
   "execution_count": 3,
   "id": "5328b89b",
   "metadata": {},
   "outputs": [],
   "source": [
    "import json\n",
    "with open(\"data/covid_data.json\") as f:\n",
    "    d = json.load(f)"
   ]
  },
  {
   "cell_type": "code",
   "execution_count": 4,
   "id": "ac1d1a9b",
   "metadata": {},
   "outputs": [],
   "source": [
    "import numpy as np\n",
    "import os\n",
    "import typing"
   ]
  },
  {
   "cell_type": "code",
   "execution_count": 5,
   "id": "58f0ad4c",
   "metadata": {},
   "outputs": [],
   "source": [
    "from sklearn.model_selection import train_test_split"
   ]
  },
  {
   "cell_type": "code",
   "execution_count": 6,
   "id": "b2c83e7c",
   "metadata": {},
   "outputs": [],
   "source": [
    "def preprocess_data(data: dict):\n",
    "    df = pd.DataFrame(data[\"records\"])\n",
    "    df = df[df[\"countryterritoryCode\"] == \"POL\"]\n",
    "    df['dateRep'] = pd.to_datetime(df['dateRep'], format=\"%d/%m/%Y\")\n",
    "    df = df.sort_values(\"dateRep\")\n",
    "    cleaned_data = df.drop([\"countryterritoryCode\", \"continentExp\", \"geoId\", \"countriesAndTerritories\", \"dateRep\", \"day\", \"month\", \"year\", \"popData2020\", \"deaths\"], axis=1)\n",
    "    cleaned_data['cases_next_day'] = df['cases'].shift(-1)\n",
    "    x = cleaned_data.drop([\"cases_next_day\"],  axis=1).values[:-1]\n",
    "    y = cleaned_data[\"cases_next_day\"].values[:-1]\n",
    "    return train_test_split(x, y, test_size=0.3, shuffle=False)"
   ]
  },
  {
   "cell_type": "code",
   "execution_count": 7,
   "id": "dd28b9a1",
   "metadata": {},
   "outputs": [],
   "source": [
    "x_train, x_val, y_train, y_val = preprocess_data(d)"
   ]
  },
  {
   "cell_type": "code",
   "execution_count": 8,
   "id": "e38cb3ec",
   "metadata": {},
   "outputs": [],
   "source": [
    "from sklearn.ensemble import RandomForestRegressor"
   ]
  },
  {
   "cell_type": "code",
   "execution_count": 9,
   "id": "0708b03a",
   "metadata": {},
   "outputs": [],
   "source": [
    "from sklearn.pipeline import Pipeline\n",
    "from sklearn.preprocessing import StandardScaler"
   ]
  },
  {
   "cell_type": "code",
   "execution_count": 88,
   "id": "5d58a95f",
   "metadata": {},
   "outputs": [
    {
     "data": {
      "text/plain": [
       "0.8134111689164283"
      ]
     },
     "execution_count": 88,
     "metadata": {},
     "output_type": "execute_result"
    }
   ],
   "source": [
    "model = RandomForestRegressor(n_jobs=-1, random_state=420)\n",
    "estimators = 90\n",
    "model.set_params(n_estimators=estimators)\n",
    "\n",
    "\n",
    "pipeline = Pipeline([\n",
    "    ('scaler2' , StandardScaler()),\n",
    "    ('RandomForestRegressor: ', model)])\n",
    "pipeline.fit(x_train , y_train)\n",
    "prediction = pipeline.predict(x_val)\n",
    "\n",
    "pipeline.fit(x_train, y_train)\n",
    "pipeline.score(x_val, y_val)"
   ]
  },
  {
   "cell_type": "code",
   "execution_count": 81,
   "id": "f151a5ac",
   "metadata": {},
   "outputs": [],
   "source": [
    "pp = pipeline.predict(x_val)"
   ]
  },
  {
   "cell_type": "code",
   "execution_count": 82,
   "id": "83b34db9",
   "metadata": {},
   "outputs": [
    {
     "data": {
      "text/plain": [
       "array([8692.16666667])"
      ]
     },
     "execution_count": 82,
     "metadata": {},
     "output_type": "execute_result"
    }
   ],
   "source": [
    "pipeline.predict([x_val[0]])"
   ]
  },
  {
   "cell_type": "code",
   "execution_count": 83,
   "id": "2ec7eed2",
   "metadata": {},
   "outputs": [],
   "source": [
    "from sklearn.metrics import mean_squared_error, r2_score"
   ]
  },
  {
   "cell_type": "code",
   "execution_count": 84,
   "id": "e9ed398b",
   "metadata": {},
   "outputs": [
    {
     "data": {
      "text/plain": [
       "5094.754797470026"
      ]
     },
     "execution_count": 84,
     "metadata": {},
     "output_type": "execute_result"
    }
   ],
   "source": [
    "mean_squared_error(y_val, pp, squared=False) # squared: If True returns MSE value, if False returns RMSE value. (we want RMSE)"
   ]
  },
  {
   "cell_type": "code",
   "execution_count": 85,
   "id": "d8370bdf",
   "metadata": {},
   "outputs": [
    {
     "data": {
      "text/plain": [
       "0.8134252950659202"
      ]
     },
     "execution_count": 85,
     "metadata": {},
     "output_type": "execute_result"
    }
   ],
   "source": [
    "r2_score(y_val, pp)"
   ]
  },
  {
   "cell_type": "code",
   "execution_count": null,
   "id": "dbd684d8",
   "metadata": {},
   "outputs": [],
   "source": []
  }
 ],
 "metadata": {
  "kernelspec": {
   "display_name": "mlpy39",
   "language": "python",
   "name": "mlpy39"
  },
  "language_info": {
   "codemirror_mode": {
    "name": "ipython",
    "version": 3
   },
   "file_extension": ".py",
   "mimetype": "text/x-python",
   "name": "python",
   "nbconvert_exporter": "python",
   "pygments_lexer": "ipython3",
   "version": "3.9.13"
  }
 },
 "nbformat": 4,
 "nbformat_minor": 5
}
