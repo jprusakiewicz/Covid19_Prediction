{
 "cells": [
  {
   "cell_type": "code",
   "execution_count": 1,
   "metadata": {},
   "outputs": [
    {
     "data": {
      "text/plain": [
       "'PJATK/semestr4/ADD/Covid19_Prediction/notebooks'"
      ]
     },
     "execution_count": 1,
     "metadata": {},
     "output_type": "execute_result"
    }
   ],
   "source": [
    "pwd = %pwd\n",
    "pwd[12:]"
   ]
  },
  {
   "cell_type": "code",
   "execution_count": 2,
   "metadata": {},
   "outputs": [],
   "source": [
    "import os\n",
    "os.chdir(\"..\")"
   ]
  },
  {
   "cell_type": "code",
   "execution_count": 3,
   "metadata": {},
   "outputs": [
    {
     "data": {
      "text/plain": [
       "'PJATK/semestr4/ADD/Covid19_Prediction'"
      ]
     },
     "execution_count": 3,
     "metadata": {},
     "output_type": "execute_result"
    }
   ],
   "source": [
    "pwd = %pwd\n",
    "pwd[12:]"
   ]
  },
  {
   "cell_type": "code",
   "execution_count": 4,
   "metadata": {},
   "outputs": [],
   "source": [
    "import pandas as pd"
   ]
  },
  {
   "cell_type": "code",
   "execution_count": 5,
   "metadata": {},
   "outputs": [],
   "source": [
    "import json\n",
    "with open(\"data/covid_data.json\") as f:\n",
    "    d = json.load(f)"
   ]
  },
  {
   "cell_type": "code",
   "execution_count": 6,
   "metadata": {},
   "outputs": [],
   "source": [
    "df = pd.DataFrame(d[\"records\"])"
   ]
  },
  {
   "cell_type": "code",
   "execution_count": 7,
   "metadata": {},
   "outputs": [
    {
     "data": {
      "text/html": [
       "<div>\n",
       "<style scoped>\n",
       "    .dataframe tbody tr th:only-of-type {\n",
       "        vertical-align: middle;\n",
       "    }\n",
       "\n",
       "    .dataframe tbody tr th {\n",
       "        vertical-align: top;\n",
       "    }\n",
       "\n",
       "    .dataframe thead th {\n",
       "        text-align: right;\n",
       "    }\n",
       "</style>\n",
       "<table border=\"1\" class=\"dataframe\">\n",
       "  <thead>\n",
       "    <tr style=\"text-align: right;\">\n",
       "      <th></th>\n",
       "      <th>dateRep</th>\n",
       "      <th>day</th>\n",
       "      <th>month</th>\n",
       "      <th>year</th>\n",
       "      <th>cases</th>\n",
       "      <th>deaths</th>\n",
       "      <th>countriesAndTerritories</th>\n",
       "      <th>geoId</th>\n",
       "      <th>countryterritoryCode</th>\n",
       "      <th>popData2020</th>\n",
       "      <th>continentExp</th>\n",
       "    </tr>\n",
       "  </thead>\n",
       "  <tbody>\n",
       "    <tr>\n",
       "      <th>0</th>\n",
       "      <td>23/10/2022</td>\n",
       "      <td>23</td>\n",
       "      <td>10</td>\n",
       "      <td>2022</td>\n",
       "      <td>3557.0</td>\n",
       "      <td>0.0</td>\n",
       "      <td>Austria</td>\n",
       "      <td>AT</td>\n",
       "      <td>AUT</td>\n",
       "      <td>8901064</td>\n",
       "      <td>Europe</td>\n",
       "    </tr>\n",
       "    <tr>\n",
       "      <th>1</th>\n",
       "      <td>22/10/2022</td>\n",
       "      <td>22</td>\n",
       "      <td>10</td>\n",
       "      <td>2022</td>\n",
       "      <td>5494.0</td>\n",
       "      <td>4.0</td>\n",
       "      <td>Austria</td>\n",
       "      <td>AT</td>\n",
       "      <td>AUT</td>\n",
       "      <td>8901064</td>\n",
       "      <td>Europe</td>\n",
       "    </tr>\n",
       "    <tr>\n",
       "      <th>2</th>\n",
       "      <td>21/10/2022</td>\n",
       "      <td>21</td>\n",
       "      <td>10</td>\n",
       "      <td>2022</td>\n",
       "      <td>7776.0</td>\n",
       "      <td>4.0</td>\n",
       "      <td>Austria</td>\n",
       "      <td>AT</td>\n",
       "      <td>AUT</td>\n",
       "      <td>8901064</td>\n",
       "      <td>Europe</td>\n",
       "    </tr>\n",
       "    <tr>\n",
       "      <th>3</th>\n",
       "      <td>20/10/2022</td>\n",
       "      <td>20</td>\n",
       "      <td>10</td>\n",
       "      <td>2022</td>\n",
       "      <td>8221.0</td>\n",
       "      <td>6.0</td>\n",
       "      <td>Austria</td>\n",
       "      <td>AT</td>\n",
       "      <td>AUT</td>\n",
       "      <td>8901064</td>\n",
       "      <td>Europe</td>\n",
       "    </tr>\n",
       "    <tr>\n",
       "      <th>4</th>\n",
       "      <td>19/10/2022</td>\n",
       "      <td>19</td>\n",
       "      <td>10</td>\n",
       "      <td>2022</td>\n",
       "      <td>10007.0</td>\n",
       "      <td>8.0</td>\n",
       "      <td>Austria</td>\n",
       "      <td>AT</td>\n",
       "      <td>AUT</td>\n",
       "      <td>8901064</td>\n",
       "      <td>Europe</td>\n",
       "    </tr>\n",
       "  </tbody>\n",
       "</table>\n",
       "</div>"
      ],
      "text/plain": [
       "      dateRep day month  year    cases  deaths countriesAndTerritories geoId  \\\n",
       "0  23/10/2022  23    10  2022   3557.0     0.0                 Austria    AT   \n",
       "1  22/10/2022  22    10  2022   5494.0     4.0                 Austria    AT   \n",
       "2  21/10/2022  21    10  2022   7776.0     4.0                 Austria    AT   \n",
       "3  20/10/2022  20    10  2022   8221.0     6.0                 Austria    AT   \n",
       "4  19/10/2022  19    10  2022  10007.0     8.0                 Austria    AT   \n",
       "\n",
       "  countryterritoryCode popData2020 continentExp  \n",
       "0                  AUT     8901064       Europe  \n",
       "1                  AUT     8901064       Europe  \n",
       "2                  AUT     8901064       Europe  \n",
       "3                  AUT     8901064       Europe  \n",
       "4                  AUT     8901064       Europe  "
      ]
     },
     "execution_count": 7,
     "metadata": {},
     "output_type": "execute_result"
    }
   ],
   "source": [
    "df.head()"
   ]
  },
  {
   "cell_type": "code",
   "execution_count": 8,
   "metadata": {},
   "outputs": [
    {
     "data": {
      "text/plain": [
       "'todo create features -> \\nis_święto, \\nseason(pora roku), \\ndeath rate, \\nR0 (https://en.wikipedia.org/wiki/Basic_reproduction_number)\\n'"
      ]
     },
     "execution_count": 8,
     "metadata": {},
     "output_type": "execute_result"
    }
   ],
   "source": [
    "\"\"\"todo create features -> \n",
    "is_święto, \n",
    "season(pora roku), \n",
    "death rate, \n",
    "R0 (https://en.wikipedia.org/wiki/Basic_reproduction_number)\n",
    "\"\"\""
   ]
  },
  {
   "cell_type": "code",
   "execution_count": 9,
   "metadata": {},
   "outputs": [],
   "source": [
    "df = df[df[\"countryterritoryCode\"] == \"POL\"]\n",
    "df['dateRep'] = pd.to_datetime(df['dateRep'], format=\"%d/%m/%Y\")\n",
    "df = df.sort_values(\"dateRep\")\n"
   ]
  },
  {
   "cell_type": "code",
   "execution_count": null,
   "metadata": {},
   "outputs": [],
   "source": [
    "from datetime import datetime, date\n",
    "from holidays import country_holidays\n",
    "\n",
    "list_of_holidays_in_poland = country_holidays('PL')\n",
    "\n",
    "def check_if_holiday(day: int, month: int, year: int) -> int:\n",
    "    if date(year, month, day) in list_of_holidays_in_poland: return int(True)\n",
    "    return int(False)\n",
    "\n",
    "def check_season(date_: datetime) -> str:\n",
    "    spring_start = datetime(date_.year, 3, 21)\n",
    "    summer_start = datetime(date_.year, 6, 22)\n",
    "    autumn_start = datetime(date_.year, 9, 23)\n",
    "    winter_start = datetime(date_.year, 12, 22)\n",
    "\n",
    "    if date_ >= winter_start or date_ < spring_start: return \"Winter\"\n",
    "    elif date_ >= spring_start and date_ < summer_start: return \"Spring\"\n",
    "    elif date_ >= summer_start and date_ < autumn_start: return \"Summer\"\n",
    "    elif date_ >= autumn_start and date_ < winter_start: return \"Autumn\"\n",
    "\n",
    "\n",
    "\n",
    "\n",
    "df['is_holiday'] = df.apply(lambda row: check_if_holiday(int(row[1]), int(row[2]), int(row[3])), axis=1)\n",
    "df['season'] = df.apply(lambda row: check_season(pd.to_datetime(row[0], format=\"%d/%m/%Y\")), axis=1)\n",
    "df['death_rate'] = df['deaths']/df['cases']  # tu mysle ze mozna sie pochylic nad braniem mianownika np. 5-7 dni bo po takim czasie czesto zgon nastepowal i bardziej dane do siebie sie odnosza\n",
    "\n",
    "df"
   ]
  },
  {
   "cell_type": "code",
   "execution_count": 10,
   "metadata": {},
   "outputs": [
    {
     "data": {
      "text/plain": [
       "23038   2020-03-04\n",
       "23037   2020-03-05\n",
       "23036   2020-03-06\n",
       "23035   2020-03-07\n",
       "23034   2020-03-08\n",
       "           ...    \n",
       "22077   2022-10-21\n",
       "22076   2022-10-22\n",
       "22075   2022-10-23\n",
       "22074   2022-10-24\n",
       "22073   2022-10-25\n",
       "Name: dateRep, Length: 966, dtype: datetime64[ns]"
      ]
     },
     "execution_count": 10,
     "metadata": {},
     "output_type": "execute_result"
    }
   ],
   "source": [
    "df[\"dateRep\"]"
   ]
  },
  {
   "cell_type": "code",
   "execution_count": 11,
   "metadata": {},
   "outputs": [],
   "source": [
    "cleaned_data = df.drop([\"countryterritoryCode\", \"continentExp\", \"geoId\", \"countriesAndTerritories\", \"dateRep\", \"day\", \"month\", \"year\", \"popData2020\", \"deaths\"], axis=1)"
   ]
  },
  {
   "cell_type": "code",
   "execution_count": 12,
   "metadata": {
    "scrolled": true
   },
   "outputs": [
    {
     "data": {
      "text/html": [
       "<div>\n",
       "<style scoped>\n",
       "    .dataframe tbody tr th:only-of-type {\n",
       "        vertical-align: middle;\n",
       "    }\n",
       "\n",
       "    .dataframe tbody tr th {\n",
       "        vertical-align: top;\n",
       "    }\n",
       "\n",
       "    .dataframe thead th {\n",
       "        text-align: right;\n",
       "    }\n",
       "</style>\n",
       "<table border=\"1\" class=\"dataframe\">\n",
       "  <thead>\n",
       "    <tr style=\"text-align: right;\">\n",
       "      <th></th>\n",
       "      <th>cases</th>\n",
       "    </tr>\n",
       "  </thead>\n",
       "  <tbody>\n",
       "    <tr>\n",
       "      <th>23038</th>\n",
       "      <td>1.0</td>\n",
       "    </tr>\n",
       "    <tr>\n",
       "      <th>23037</th>\n",
       "      <td>0.0</td>\n",
       "    </tr>\n",
       "    <tr>\n",
       "      <th>23036</th>\n",
       "      <td>4.0</td>\n",
       "    </tr>\n",
       "    <tr>\n",
       "      <th>23035</th>\n",
       "      <td>1.0</td>\n",
       "    </tr>\n",
       "    <tr>\n",
       "      <th>23034</th>\n",
       "      <td>5.0</td>\n",
       "    </tr>\n",
       "  </tbody>\n",
       "</table>\n",
       "</div>"
      ],
      "text/plain": [
       "       cases\n",
       "23038    1.0\n",
       "23037    0.0\n",
       "23036    4.0\n",
       "23035    1.0\n",
       "23034    5.0"
      ]
     },
     "execution_count": 12,
     "metadata": {},
     "output_type": "execute_result"
    }
   ],
   "source": [
    "cleaned_data.head(5)"
   ]
  },
  {
   "cell_type": "code",
   "execution_count": 13,
   "metadata": {
    "scrolled": true
   },
   "outputs": [],
   "source": [
    "cleaned_data['cases_next_day'] = df['cases'].shift(-1)"
   ]
  },
  {
   "cell_type": "code",
   "execution_count": 14,
   "metadata": {
    "scrolled": true
   },
   "outputs": [
    {
     "data": {
      "text/html": [
       "<div>\n",
       "<style scoped>\n",
       "    .dataframe tbody tr th:only-of-type {\n",
       "        vertical-align: middle;\n",
       "    }\n",
       "\n",
       "    .dataframe tbody tr th {\n",
       "        vertical-align: top;\n",
       "    }\n",
       "\n",
       "    .dataframe thead th {\n",
       "        text-align: right;\n",
       "    }\n",
       "</style>\n",
       "<table border=\"1\" class=\"dataframe\">\n",
       "  <thead>\n",
       "    <tr style=\"text-align: right;\">\n",
       "      <th></th>\n",
       "      <th>cases</th>\n",
       "      <th>cases_next_day</th>\n",
       "    </tr>\n",
       "  </thead>\n",
       "  <tbody>\n",
       "    <tr>\n",
       "      <th>23038</th>\n",
       "      <td>1.0</td>\n",
       "      <td>0.0</td>\n",
       "    </tr>\n",
       "    <tr>\n",
       "      <th>23037</th>\n",
       "      <td>0.0</td>\n",
       "      <td>4.0</td>\n",
       "    </tr>\n",
       "    <tr>\n",
       "      <th>23036</th>\n",
       "      <td>4.0</td>\n",
       "      <td>1.0</td>\n",
       "    </tr>\n",
       "    <tr>\n",
       "      <th>23035</th>\n",
       "      <td>1.0</td>\n",
       "      <td>5.0</td>\n",
       "    </tr>\n",
       "    <tr>\n",
       "      <th>23034</th>\n",
       "      <td>5.0</td>\n",
       "      <td>6.0</td>\n",
       "    </tr>\n",
       "  </tbody>\n",
       "</table>\n",
       "</div>"
      ],
      "text/plain": [
       "       cases  cases_next_day\n",
       "23038    1.0             0.0\n",
       "23037    0.0             4.0\n",
       "23036    4.0             1.0\n",
       "23035    1.0             5.0\n",
       "23034    5.0             6.0"
      ]
     },
     "execution_count": 14,
     "metadata": {},
     "output_type": "execute_result"
    }
   ],
   "source": [
    "cleaned_data.head()"
   ]
  },
  {
   "cell_type": "code",
   "execution_count": 15,
   "metadata": {},
   "outputs": [],
   "source": [
    "x = cleaned_data.drop([\"cases_next_day\"],  axis=1).values[:-1]\n",
    "y = cleaned_data[\"cases_next_day\"].values[:-1]"
   ]
  },
  {
   "cell_type": "code",
   "execution_count": 16,
   "metadata": {
    "scrolled": true
   },
   "outputs": [
    {
     "name": "stderr",
     "output_type": "stream",
     "text": [
      "2023-05-27 19:15:39.601236: I tensorflow/core/platform/cpu_feature_guard.cc:193] This TensorFlow binary is optimized with oneAPI Deep Neural Network Library (oneDNN) to use the following CPU instructions in performance-critical operations:  AVX2 FMA\n",
      "To enable them in other operations, rebuild TensorFlow with the appropriate compiler flags.\n"
     ]
    }
   ],
   "source": [
    "import pandas as pd\n",
    "import numpy as np\n",
    "import os\n",
    "import typing\n",
    "import matplotlib.pyplot as plt\n",
    "\n",
    "import tensorflow as tf\n",
    "from tensorflow import keras\n",
    "from tensorflow.keras import layers"
   ]
  },
  {
   "cell_type": "code",
   "execution_count": 17,
   "metadata": {},
   "outputs": [],
   "source": [
    "from sklearn.model_selection import train_test_split\n",
    "x_train, x_val, y_train, y_val = train_test_split(x, y, test_size=0.3, shuffle=False)"
   ]
  },
  {
   "cell_type": "code",
   "execution_count": 18,
   "metadata": {},
   "outputs": [],
   "source": [
    "# mean, std = x_train.mean(axis=0), x_train.std(axis=0)\n",
    "# x_train = (x_train - mean) / std"
   ]
  },
  {
   "cell_type": "code",
   "execution_count": 19,
   "metadata": {},
   "outputs": [],
   "source": [
    "# mean, std = x_val.mean(axis=0), x_val.std(axis=0)\n",
    "# x_val = (x_val - mean) / std"
   ]
  },
  {
   "cell_type": "code",
   "execution_count": 20,
   "metadata": {},
   "outputs": [],
   "source": [
    "from sklearn.ensemble import RandomForestRegressor"
   ]
  },
  {
   "cell_type": "code",
   "execution_count": 21,
   "metadata": {},
   "outputs": [],
   "source": [
    "from sklearn.pipeline import Pipeline\n",
    "from sklearn.preprocessing import StandardScaler"
   ]
  },
  {
   "cell_type": "code",
   "execution_count": 22,
   "metadata": {},
   "outputs": [
    {
     "data": {
      "text/plain": [
       "0.8152480325755008"
      ]
     },
     "execution_count": 22,
     "metadata": {},
     "output_type": "execute_result"
    }
   ],
   "source": [
    "model = RandomForestRegressor(n_jobs=-1)\n",
    "estimators = 100\n",
    "model.set_params(n_estimators=estimators)\n",
    "\n",
    "\n",
    "pipeline = Pipeline([\n",
    "    ('scaler2' , StandardScaler()),\n",
    "                        ('RandomForestRegressor: ', model)])\n",
    "pipeline.fit(x_train , y_train)\n",
    "prediction = pipeline.predict(x_val)\n",
    "\n",
    "pipeline.fit(x_train, y_train)\n",
    "pipeline.score(x_val, y_val)"
   ]
  },
  {
   "cell_type": "code",
   "execution_count": 23,
   "metadata": {},
   "outputs": [],
   "source": [
    "pp = pipeline.predict(x_val)"
   ]
  },
  {
   "cell_type": "code",
   "execution_count": 24,
   "metadata": {},
   "outputs": [
    {
     "data": {
      "text/plain": [
       "array([8981.74])"
      ]
     },
     "execution_count": 24,
     "metadata": {},
     "output_type": "execute_result"
    }
   ],
   "source": [
    "pipeline.predict([x_val[0]])"
   ]
  },
  {
   "cell_type": "code",
   "execution_count": 25,
   "metadata": {},
   "outputs": [
    {
     "data": {
      "text/plain": [
       "11107.0"
      ]
     },
     "execution_count": 25,
     "metadata": {},
     "output_type": "execute_result"
    }
   ],
   "source": [
    "y_val[0]"
   ]
  },
  {
   "cell_type": "code",
   "execution_count": 26,
   "metadata": {},
   "outputs": [],
   "source": [
    "SEQUENCE_LENGTH=5"
   ]
  },
  {
   "cell_type": "code",
   "execution_count": 27,
   "metadata": {},
   "outputs": [
    {
     "name": "stderr",
     "output_type": "stream",
     "text": [
      "2023-05-27 19:15:47.604971: I tensorflow/core/platform/cpu_feature_guard.cc:193] This TensorFlow binary is optimized with oneAPI Deep Neural Network Library (oneDNN) to use the following CPU instructions in performance-critical operations:  AVX2 FMA\n",
      "To enable them in other operations, rebuild TensorFlow with the appropriate compiler flags.\n"
     ]
    }
   ],
   "source": [
    "dataset_train = keras.preprocessing.timeseries_dataset_from_array(\n",
    "    x_train,\n",
    "    y_train,\n",
    "    sequence_length=SEQUENCE_LENGTH\n",
    ")"
   ]
  },
  {
   "cell_type": "code",
   "execution_count": 28,
   "metadata": {},
   "outputs": [
    {
     "name": "stdout",
     "output_type": "stream",
     "text": [
      "Input shape: (128, 5, 1)\n",
      "Input value: 1.0\n",
      "Input value: 0.0\n",
      "Target shape: (128,)\n",
      "Target value: 0.0\n"
     ]
    }
   ],
   "source": [
    "dataset_val = keras.preprocessing.timeseries_dataset_from_array(\n",
    "    x_val,\n",
    "    y_val,\n",
    "    sequence_length=14,\n",
    "#     sampling_rate=step,\n",
    "#     batch_size=batch_size,\n",
    ")\n",
    "\n",
    "\n",
    "for batch in dataset_train.take(1):\n",
    "    inputs, targets = batch\n",
    "\n",
    "print(\"Input shape:\", inputs.numpy().shape)\n",
    "print(\"Input value:\", inputs.numpy()[0][0][0])\n",
    "print(\"Input value:\", inputs.numpy()[0][1][0])\n",
    "# print(\"Input value:\", inputs.numpy()[0][2][0])\n",
    "\n",
    "print(\"Target shape:\", targets.numpy().shape)\n",
    "print(\"Target value:\", targets.numpy()[0])"
   ]
  },
  {
   "cell_type": "code",
   "execution_count": 29,
   "metadata": {},
   "outputs": [],
   "source": [
    "# inputs = keras.layers.Input(shape=(x_train.shape[1], 1))\n",
    "# lstm_out = keras.layers.LSTM(32)(inputs)\n",
    "# outputs = keras.layers.Dense(1)(lstm_out)\n",
    "\n",
    "# model = keras.Model(inputs=inputs, outputs=outputs)\n",
    "# model.compile(loss=tf.keras.losses.MeanSquaredError(),\n",
    "#             optimizer=tf.keras.optimizers.Adam(),\n",
    "#             metrics=[tf.keras.metrics.MeanAbsoluteError()])\n",
    "\n",
    "# model.summary()"
   ]
  },
  {
   "cell_type": "code",
   "execution_count": 52,
   "metadata": {},
   "outputs": [
    {
     "name": "stdout",
     "output_type": "stream",
     "text": [
      "Epoch 1/4000\n",
      "6/6 [==============================] - 2s 85ms/step - loss: 106093920.0000 - mean_absolute_error: 6177.1753 - val_loss: 194750240.0000 - val_mean_absolute_error: 7128.8271\n",
      "Epoch 2/4000\n",
      "6/6 [==============================] - 0s 21ms/step - loss: 106090952.0000 - mean_absolute_error: 6176.9614 - val_loss: 194748368.0000 - val_mean_absolute_error: 7128.6904\n",
      "Epoch 3/4000\n",
      "6/6 [==============================] - 0s 20ms/step - loss: 106089344.0000 - mean_absolute_error: 6176.8262 - val_loss: 194746464.0000 - val_mean_absolute_error: 7128.5454\n",
      "Epoch 4/4000\n",
      "6/6 [==============================] - 0s 21ms/step - loss: 106087696.0000 - mean_absolute_error: 6176.6826 - val_loss: 194744496.0000 - val_mean_absolute_error: 7128.3765\n",
      "Epoch 5/4000\n",
      "6/6 [==============================] - 0s 18ms/step - loss: 106085744.0000 - mean_absolute_error: 6176.5107 - val_loss: 194741824.0000 - val_mean_absolute_error: 7128.1396\n",
      "Epoch 6/4000\n",
      "6/6 [==============================] - 0s 17ms/step - loss: 106081208.0000 - mean_absolute_error: 6176.1753 - val_loss: 194734032.0000 - val_mean_absolute_error: 7127.5840\n",
      "Epoch 7/4000\n",
      "6/6 [==============================] - 0s 18ms/step - loss: 106076600.0000 - mean_absolute_error: 6175.7432 - val_loss: 194730768.0000 - val_mean_absolute_error: 7127.2500\n",
      "Epoch 8/4000\n",
      "6/6 [==============================] - 0s 21ms/step - loss: 106073824.0000 - mean_absolute_error: 6175.3994 - val_loss: 194721792.0000 - val_mean_absolute_error: 7126.7056\n",
      "Epoch 9/4000\n",
      "6/6 [==============================] - 0s 20ms/step - loss: 106064472.0000 - mean_absolute_error: 6174.7568 - val_loss: 194713152.0000 - val_mean_absolute_error: 7126.0640\n",
      "Epoch 10/4000\n",
      "6/6 [==============================] - 0s 17ms/step - loss: 106057048.0000 - mean_absolute_error: 6174.1299 - val_loss: 194702096.0000 - val_mean_absolute_error: 7125.4639\n",
      "Epoch 11/4000\n",
      "6/6 [==============================] - 0s 18ms/step - loss: 106047920.0000 - mean_absolute_error: 6173.5308 - val_loss: 194696880.0000 - val_mean_absolute_error: 7125.0898\n",
      "Epoch 12/4000\n",
      "6/6 [==============================] - 0s 17ms/step - loss: 106043416.0000 - mean_absolute_error: 6173.1533 - val_loss: 194691616.0000 - val_mean_absolute_error: 7124.7002\n",
      "Epoch 13/4000\n",
      "6/6 [==============================] - 0s 18ms/step - loss: 106038848.0000 - mean_absolute_error: 6172.7524 - val_loss: 194686128.0000 - val_mean_absolute_error: 7124.2446\n",
      "Epoch 14/4000\n",
      "6/6 [==============================] - 0s 20ms/step - loss: 106031752.0000 - mean_absolute_error: 6172.1484 - val_loss: 194672032.0000 - val_mean_absolute_error: 7123.3184\n",
      "Epoch 15/4000\n",
      "6/6 [==============================] - 0s 18ms/step - loss: 106020312.0000 - mean_absolute_error: 6171.2754 - val_loss: 194660256.0000 - val_mean_absolute_error: 7122.4072\n",
      "Epoch 16/4000\n",
      "6/6 [==============================] - 0s 18ms/step - loss: 106005968.0000 - mean_absolute_error: 6170.1406 - val_loss: 194639488.0000 - val_mean_absolute_error: 7120.9727\n",
      "Epoch 17/4000\n",
      "6/6 [==============================] - 0s 18ms/step - loss: 105990024.0000 - mean_absolute_error: 6168.9058 - val_loss: 194622912.0000 - val_mean_absolute_error: 7119.8242\n",
      "Epoch 18/4000\n",
      "6/6 [==============================] - 0s 17ms/step - loss: 105977520.0000 - mean_absolute_error: 6167.8940 - val_loss: 194612832.0000 - val_mean_absolute_error: 7118.9551\n",
      "Epoch 19/4000\n",
      "6/6 [==============================] - 0s 17ms/step - loss: 105968880.0000 - mean_absolute_error: 6167.0840 - val_loss: 194601616.0000 - val_mean_absolute_error: 7117.9053\n",
      "Epoch 20/4000\n",
      "6/6 [==============================] - 0s 19ms/step - loss: 105955816.0000 - mean_absolute_error: 6165.9316 - val_loss: 194583488.0000 - val_mean_absolute_error: 7116.7241\n",
      "Epoch 21/4000\n",
      "6/6 [==============================] - 0s 18ms/step - loss: 105940376.0000 - mean_absolute_error: 6164.6670 - val_loss: 194559440.0000 - val_mean_absolute_error: 7115.0854\n",
      "Epoch 22/4000\n",
      "6/6 [==============================] - 0s 18ms/step - loss: 105921776.0000 - mean_absolute_error: 6163.2314 - val_loss: 194546448.0000 - val_mean_absolute_error: 7113.9126\n",
      "Epoch 23/4000\n",
      "6/6 [==============================] - 0s 19ms/step - loss: 105908240.0000 - mean_absolute_error: 6161.9795 - val_loss: 194528672.0000 - val_mean_absolute_error: 7112.3306\n",
      "Epoch 24/4000\n",
      "6/6 [==============================] - 0s 18ms/step - loss: 105893872.0000 - mean_absolute_error: 6160.3765 - val_loss: 194499152.0000 - val_mean_absolute_error: 7110.2012\n",
      "Epoch 25/4000\n",
      "6/6 [==============================] - 0s 24ms/step - loss: 105851872.0000 - mean_absolute_error: 6157.4565 - val_loss: 194453504.0000 - val_mean_absolute_error: 7107.3896\n",
      "Epoch 26/4000\n",
      "6/6 [==============================] - 0s 21ms/step - loss: 105827080.0000 - mean_absolute_error: 6155.4536 - val_loss: 194431296.0000 - val_mean_absolute_error: 7105.6064\n",
      "Epoch 27/4000\n",
      "6/6 [==============================] - 0s 21ms/step - loss: 105795752.0000 - mean_absolute_error: 6153.2349 - val_loss: 194387760.0000 - val_mean_absolute_error: 7103.2666\n",
      "Epoch 28/4000\n",
      "6/6 [==============================] - 0s 20ms/step - loss: 105768832.0000 - mean_absolute_error: 6151.1484 - val_loss: 194363376.0000 - val_mean_absolute_error: 7101.5493\n",
      "Epoch 29/4000\n",
      "6/6 [==============================] - 0s 19ms/step - loss: 105748144.0000 - mean_absolute_error: 6149.4741 - val_loss: 194337552.0000 - val_mean_absolute_error: 7099.7578\n",
      "Epoch 30/4000\n",
      "6/6 [==============================] - 0s 18ms/step - loss: 105726120.0000 - mean_absolute_error: 6147.7466 - val_loss: 194315488.0000 - val_mean_absolute_error: 7098.0269\n",
      "Epoch 31/4000\n",
      "6/6 [==============================] - 0s 17ms/step - loss: 105699712.0000 - mean_absolute_error: 6145.7803 - val_loss: 194285360.0000 - val_mean_absolute_error: 7096.1587\n",
      "Epoch 32/4000\n",
      "6/6 [==============================] - 0s 17ms/step - loss: 105680240.0000 - mean_absolute_error: 6144.2100 - val_loss: 194262704.0000 - val_mean_absolute_error: 7094.5537\n",
      "Epoch 33/4000\n",
      "6/6 [==============================] - 0s 18ms/step - loss: 105660560.0000 - mean_absolute_error: 6142.6172 - val_loss: 194239872.0000 - val_mean_absolute_error: 7092.9292\n",
      "Epoch 34/4000\n",
      "6/6 [==============================] - 0s 17ms/step - loss: 105640760.0000 - mean_absolute_error: 6141.0010 - val_loss: 194216848.0000 - val_mean_absolute_error: 7091.2476\n",
      "Epoch 35/4000\n",
      "6/6 [==============================] - 0s 17ms/step - loss: 105620848.0000 - mean_absolute_error: 6139.3403 - val_loss: 194193408.0000 - val_mean_absolute_error: 7089.4917\n",
      "Epoch 36/4000\n",
      "6/6 [==============================] - 0s 18ms/step - loss: 105597824.0000 - mean_absolute_error: 6137.4551 - val_loss: 194163520.0000 - val_mean_absolute_error: 7087.4292\n",
      "Epoch 37/4000\n",
      "6/6 [==============================] - 0s 18ms/step - loss: 105570656.0000 - mean_absolute_error: 6135.3389 - val_loss: 194130048.0000 - val_mean_absolute_error: 7085.1260\n",
      "Epoch 38/4000\n",
      "6/6 [==============================] - 0s 19ms/step - loss: 105544776.0000 - mean_absolute_error: 6133.1855 - val_loss: 194094064.0000 - val_mean_absolute_error: 7082.8066\n",
      "Epoch 39/4000\n",
      "6/6 [==============================] - 0s 19ms/step - loss: 105512680.0000 - mean_absolute_error: 6130.8765 - val_loss: 194066400.0000 - val_mean_absolute_error: 7080.8901\n",
      "Epoch 40/4000\n",
      "6/6 [==============================] - 0s 22ms/step - loss: 105488848.0000 - mean_absolute_error: 6128.9741 - val_loss: 194038960.0000 - val_mean_absolute_error: 7079.0078\n",
      "Epoch 41/4000\n",
      "6/6 [==============================] - 0s 19ms/step - loss: 105464984.0000 - mean_absolute_error: 6127.0796 - val_loss: 194011232.0000 - val_mean_absolute_error: 7077.1045\n",
      "Epoch 42/4000\n",
      "6/6 [==============================] - 0s 20ms/step - loss: 105440952.0000 - mean_absolute_error: 6125.1680 - val_loss: 193983376.0000 - val_mean_absolute_error: 7075.1826\n",
      "Epoch 43/4000\n",
      "6/6 [==============================] - 0s 18ms/step - loss: 105416784.0000 - mean_absolute_error: 6123.2441 - val_loss: 193955376.0000 - val_mean_absolute_error: 7073.2554\n",
      "Epoch 44/4000\n",
      "6/6 [==============================] - 0s 18ms/step - loss: 105392464.0000 - mean_absolute_error: 6121.3057 - val_loss: 193927168.0000 - val_mean_absolute_error: 7071.3149\n",
      "Epoch 45/4000\n",
      "6/6 [==============================] - 0s 18ms/step - loss: 105368032.0000 - mean_absolute_error: 6119.3320 - val_loss: 193898592.0000 - val_mean_absolute_error: 7069.2993\n",
      "Epoch 46/4000\n",
      "6/6 [==============================] - 0s 18ms/step - loss: 105343408.0000 - mean_absolute_error: 6117.3008 - val_loss: 193868688.0000 - val_mean_absolute_error: 7067.0630\n",
      "Epoch 47/4000\n",
      "6/6 [==============================] - 0s 19ms/step - loss: 105316520.0000 - mean_absolute_error: 6114.9497 - val_loss: 193824528.0000 - val_mean_absolute_error: 7064.5664\n",
      "Epoch 48/4000\n",
      "6/6 [==============================] - 0s 20ms/step - loss: 105278456.0000 - mean_absolute_error: 6112.3511 - val_loss: 193794144.0000 - val_mean_absolute_error: 7062.5112\n",
      "Epoch 49/4000\n",
      "6/6 [==============================] - 0s 16ms/step - loss: 105251912.0000 - mean_absolute_error: 6110.2651 - val_loss: 193763136.0000 - val_mean_absolute_error: 7060.3838\n",
      "Epoch 50/4000\n",
      "6/6 [==============================] - 0s 18ms/step - loss: 105225008.0000 - mean_absolute_error: 6108.1421 - val_loss: 193731488.0000 - val_mean_absolute_error: 7058.1494\n",
      "Epoch 51/4000\n",
      "6/6 [==============================] - 0s 16ms/step - loss: 105197816.0000 - mean_absolute_error: 6105.9048 - val_loss: 193698624.0000 - val_mean_absolute_error: 7055.7837\n",
      "Epoch 52/4000\n",
      "6/6 [==============================] - 0s 17ms/step - loss: 105162024.0000 - mean_absolute_error: 6103.2656 - val_loss: 193656208.0000 - val_mean_absolute_error: 7053.2852\n",
      "Epoch 53/4000\n",
      "6/6 [==============================] - 0s 18ms/step - loss: 105130424.0000 - mean_absolute_error: 6100.7881 - val_loss: 193611520.0000 - val_mean_absolute_error: 7050.4434\n",
      "Epoch 54/4000\n",
      "6/6 [==============================] - 0s 20ms/step - loss: 105092152.0000 - mean_absolute_error: 6098.0952 - val_loss: 193576016.0000 - val_mean_absolute_error: 7048.1069\n",
      "Epoch 55/4000\n",
      "6/6 [==============================] - 0s 18ms/step - loss: 105061152.0000 - mean_absolute_error: 6095.6558 - val_loss: 193539936.0000 - val_mean_absolute_error: 7045.7476\n",
      "Epoch 56/4000\n",
      "6/6 [==============================] - 0s 19ms/step - loss: 105029840.0000 - mean_absolute_error: 6093.4551 - val_loss: 193503584.0000 - val_mean_absolute_error: 7043.3877\n",
      "Epoch 57/4000\n",
      "6/6 [==============================] - 0s 17ms/step - loss: 104998320.0000 - mean_absolute_error: 6090.8418 - val_loss: 193467056.0000 - val_mean_absolute_error: 7041.0352\n",
      "Epoch 58/4000\n",
      "6/6 [==============================] - 0s 19ms/step - loss: 104966656.0000 - mean_absolute_error: 6088.4790 - val_loss: 193430384.0000 - val_mean_absolute_error: 7038.6919\n",
      "Epoch 59/4000\n",
      "6/6 [==============================] - 0s 21ms/step - loss: 104934872.0000 - mean_absolute_error: 6086.1328 - val_loss: 193393520.0000 - val_mean_absolute_error: 7036.3350\n",
      "Epoch 60/4000\n",
      "6/6 [==============================] - 0s 20ms/step - loss: 104902880.0000 - mean_absolute_error: 6083.5903 - val_loss: 193356432.0000 - val_mean_absolute_error: 7033.9658\n",
      "Epoch 61/4000\n",
      "6/6 [==============================] - 0s 20ms/step - loss: 104870736.0000 - mean_absolute_error: 6081.3647 - val_loss: 193319136.0000 - val_mean_absolute_error: 7031.5830\n",
      "Epoch 62/4000\n",
      "6/6 [==============================] - 0s 21ms/step - loss: 104838392.0000 - mean_absolute_error: 6078.7310 - val_loss: 193281616.0000 - val_mean_absolute_error: 7029.1875\n",
      "Epoch 63/4000\n",
      "6/6 [==============================] - 0s 18ms/step - loss: 104805856.0000 - mean_absolute_error: 6076.3252 - val_loss: 193243856.0000 - val_mean_absolute_error: 7026.7822\n",
      "Epoch 64/4000\n",
      "6/6 [==============================] - 0s 18ms/step - loss: 104773104.0000 - mean_absolute_error: 6073.8008 - val_loss: 193205840.0000 - val_mean_absolute_error: 7024.3735\n",
      "Epoch 65/4000\n",
      "6/6 [==============================] - 0s 19ms/step - loss: 104740104.0000 - mean_absolute_error: 6071.3779 - val_loss: 193167504.0000 - val_mean_absolute_error: 7021.9409\n",
      "Epoch 66/4000\n",
      "6/6 [==============================] - 0s 18ms/step - loss: 104706872.0000 - mean_absolute_error: 6068.8164 - val_loss: 193128944.0000 - val_mean_absolute_error: 7019.4912\n",
      "Epoch 67/4000\n",
      "6/6 [==============================] - 0s 20ms/step - loss: 104673408.0000 - mean_absolute_error: 6066.3467 - val_loss: 193090080.0000 - val_mean_absolute_error: 7017.0210\n",
      "Epoch 68/4000\n",
      "6/6 [==============================] - 0s 22ms/step - loss: 104639704.0000 - mean_absolute_error: 6063.7461 - val_loss: 193050960.0000 - val_mean_absolute_error: 7014.5308\n",
      "Epoch 69/4000\n",
      "6/6 [==============================] - 0s 17ms/step - loss: 104605736.0000 - mean_absolute_error: 6061.1943 - val_loss: 193011520.0000 - val_mean_absolute_error: 7012.0195\n",
      "Epoch 70/4000\n",
      "6/6 [==============================] - 0s 21ms/step - loss: 104571512.0000 - mean_absolute_error: 6058.6870 - val_loss: 192971776.0000 - val_mean_absolute_error: 7009.4868\n",
      "Epoch 71/4000\n",
      "6/6 [==============================] - 0s 21ms/step - loss: 104537048.0000 - mean_absolute_error: 6056.0903 - val_loss: 192931744.0000 - val_mean_absolute_error: 7006.9404\n",
      "Epoch 72/4000\n",
      "6/6 [==============================] - 0s 22ms/step - loss: 104502328.0000 - mean_absolute_error: 6053.6016 - val_loss: 192891424.0000 - val_mean_absolute_error: 7004.3896\n",
      "Epoch 73/4000\n",
      "6/6 [==============================] - 0s 24ms/step - loss: 104467312.0000 - mean_absolute_error: 6050.9238 - val_loss: 192850784.0000 - val_mean_absolute_error: 7001.8184\n",
      "Epoch 74/4000\n",
      "6/6 [==============================] - 0s 17ms/step - loss: 104432080.0000 - mean_absolute_error: 6048.4561 - val_loss: 192809840.0000 - val_mean_absolute_error: 6999.2266\n",
      "Epoch 75/4000\n",
      "6/6 [==============================] - 0s 18ms/step - loss: 104396552.0000 - mean_absolute_error: 6045.6533 - val_loss: 192768560.0000 - val_mean_absolute_error: 6996.6157\n",
      "Epoch 76/4000\n",
      "6/6 [==============================] - 0s 19ms/step - loss: 104360768.0000 - mean_absolute_error: 6043.2056 - val_loss: 192727024.0000 - val_mean_absolute_error: 6993.9971\n",
      "Epoch 77/4000\n",
      "6/6 [==============================] - 0s 19ms/step - loss: 104324720.0000 - mean_absolute_error: 6040.3545 - val_loss: 192685104.0000 - val_mean_absolute_error: 6991.2876\n",
      "Epoch 78/4000\n",
      "6/6 [==============================] - 0s 18ms/step - loss: 104288400.0000 - mean_absolute_error: 6037.7666 - val_loss: 192642960.0000 - val_mean_absolute_error: 6988.6987\n",
      "Epoch 79/4000\n",
      "6/6 [==============================] - 0s 17ms/step - loss: 104251792.0000 - mean_absolute_error: 6034.9419 - val_loss: 192600400.0000 - val_mean_absolute_error: 6986.0146\n",
      "Epoch 80/4000\n",
      "6/6 [==============================] - 0s 17ms/step - loss: 104214952.0000 - mean_absolute_error: 6032.4375 - val_loss: 192557568.0000 - val_mean_absolute_error: 6983.2905\n",
      "Epoch 81/4000\n",
      "6/6 [==============================] - 0s 17ms/step - loss: 104177800.0000 - mean_absolute_error: 6029.4546 - val_loss: 192514320.0000 - val_mean_absolute_error: 6980.4736\n",
      "Epoch 82/4000\n",
      "6/6 [==============================] - 0s 18ms/step - loss: 104140392.0000 - mean_absolute_error: 6026.9355 - val_loss: 192470144.0000 - val_mean_absolute_error: 6977.6626\n",
      "Epoch 83/4000\n",
      "6/6 [==============================] - 0s 16ms/step - loss: 104102568.0000 - mean_absolute_error: 6023.8013 - val_loss: 192416272.0000 - val_mean_absolute_error: 6974.5566\n",
      "Epoch 84/4000\n",
      "6/6 [==============================] - 0s 16ms/step - loss: 104054336.0000 - mean_absolute_error: 6020.7598 - val_loss: 192369808.0000 - val_mean_absolute_error: 6971.6328\n",
      "Epoch 85/4000\n",
      "6/6 [==============================] - 0s 16ms/step - loss: 104013920.0000 - mean_absolute_error: 6017.5522 - val_loss: 192322608.0000 - val_mean_absolute_error: 6968.3423\n",
      "Epoch 86/4000\n",
      "6/6 [==============================] - 0s 16ms/step - loss: 103973024.0000 - mean_absolute_error: 6014.8623 - val_loss: 192275136.0000 - val_mean_absolute_error: 6965.6582\n",
      "Epoch 87/4000\n",
      "6/6 [==============================] - 0s 17ms/step - loss: 103931856.0000 - mean_absolute_error: 6011.7720 - val_loss: 192227328.0000 - val_mean_absolute_error: 6962.6382\n",
      "Epoch 88/4000\n",
      "6/6 [==============================] - 0s 18ms/step - loss: 103890520.0000 - mean_absolute_error: 6009.5186 - val_loss: 192179408.0000 - val_mean_absolute_error: 6959.7461\n",
      "Epoch 89/4000\n"
     ]
    },
    {
     "name": "stdout",
     "output_type": "stream",
     "text": [
      "6/6 [==============================] - 0s 17ms/step - loss: 103848984.0000 - mean_absolute_error: 6006.2383 - val_loss: 192131312.0000 - val_mean_absolute_error: 6956.9912\n",
      "Epoch 90/4000\n",
      "6/6 [==============================] - 0s 16ms/step - loss: 103807216.0000 - mean_absolute_error: 6002.8345 - val_loss: 192082832.0000 - val_mean_absolute_error: 6954.5195\n",
      "Epoch 91/4000\n",
      "6/6 [==============================] - 0s 16ms/step - loss: 103765296.0000 - mean_absolute_error: 5999.8906 - val_loss: 192034192.0000 - val_mean_absolute_error: 6951.1694\n",
      "Epoch 92/4000\n",
      "6/6 [==============================] - 0s 18ms/step - loss: 103723176.0000 - mean_absolute_error: 5996.5625 - val_loss: 191985344.0000 - val_mean_absolute_error: 6948.8218\n",
      "Epoch 93/4000\n",
      "6/6 [==============================] - 0s 22ms/step - loss: 103680848.0000 - mean_absolute_error: 5994.2422 - val_loss: 191936176.0000 - val_mean_absolute_error: 6945.3228\n",
      "Epoch 94/4000\n",
      "6/6 [==============================] - 0s 18ms/step - loss: 103638312.0000 - mean_absolute_error: 5991.2222 - val_loss: 191886768.0000 - val_mean_absolute_error: 6942.3604\n",
      "Epoch 95/4000\n",
      "6/6 [==============================] - 0s 17ms/step - loss: 103595472.0000 - mean_absolute_error: 5988.1177 - val_loss: 191837072.0000 - val_mean_absolute_error: 6939.7476\n",
      "Epoch 96/4000\n",
      "6/6 [==============================] - 0s 16ms/step - loss: 103552408.0000 - mean_absolute_error: 5984.4702 - val_loss: 191787104.0000 - val_mean_absolute_error: 6937.1030\n",
      "Epoch 97/4000\n",
      "6/6 [==============================] - 0s 16ms/step - loss: 103509128.0000 - mean_absolute_error: 5981.6470 - val_loss: 191736848.0000 - val_mean_absolute_error: 6934.2642\n",
      "Epoch 98/4000\n",
      "6/6 [==============================] - 0s 18ms/step - loss: 103465584.0000 - mean_absolute_error: 5978.3247 - val_loss: 191686400.0000 - val_mean_absolute_error: 6932.1846\n",
      "Epoch 99/4000\n",
      "6/6 [==============================] - 0s 16ms/step - loss: 103421800.0000 - mean_absolute_error: 5975.5620 - val_loss: 191635408.0000 - val_mean_absolute_error: 6928.4399\n",
      "Epoch 100/4000\n",
      "6/6 [==============================] - 0s 16ms/step - loss: 103377768.0000 - mean_absolute_error: 5972.3477 - val_loss: 191584432.0000 - val_mean_absolute_error: 6926.8306\n",
      "Epoch 101/4000\n",
      "6/6 [==============================] - 0s 16ms/step - loss: 103333512.0000 - mean_absolute_error: 5970.2241 - val_loss: 191531744.0000 - val_mean_absolute_error: 6922.6606\n",
      "Epoch 102/4000\n",
      "6/6 [==============================] - 0s 18ms/step - loss: 103280064.0000 - mean_absolute_error: 5966.3228 - val_loss: 191462480.0000 - val_mean_absolute_error: 6918.4858\n",
      "Epoch 103/4000\n",
      "6/6 [==============================] - 0s 18ms/step - loss: 103226816.0000 - mean_absolute_error: 5962.4131 - val_loss: 191407456.0000 - val_mean_absolute_error: 6916.5801\n",
      "Epoch 104/4000\n",
      "6/6 [==============================] - 0s 19ms/step - loss: 103178872.0000 - mean_absolute_error: 5958.6387 - val_loss: 191351632.0000 - val_mean_absolute_error: 6912.8423\n",
      "Epoch 105/4000\n",
      "6/6 [==============================] - 0s 17ms/step - loss: 103130624.0000 - mean_absolute_error: 5955.2402 - val_loss: 191295840.0000 - val_mean_absolute_error: 6910.6289\n",
      "Epoch 106/4000\n",
      "6/6 [==============================] - 0s 19ms/step - loss: 103082208.0000 - mean_absolute_error: 5951.9492 - val_loss: 191239664.0000 - val_mean_absolute_error: 6907.2466\n",
      "Epoch 107/4000\n",
      "6/6 [==============================] - 0s 18ms/step - loss: 103033656.0000 - mean_absolute_error: 5948.5981 - val_loss: 191183440.0000 - val_mean_absolute_error: 6904.4253\n",
      "Epoch 108/4000\n",
      "6/6 [==============================] - 0s 18ms/step - loss: 102984952.0000 - mean_absolute_error: 5945.5200 - val_loss: 191126880.0000 - val_mean_absolute_error: 6900.9360\n",
      "Epoch 109/4000\n",
      "6/6 [==============================] - 0s 23ms/step - loss: 102936104.0000 - mean_absolute_error: 5942.1968 - val_loss: 191070576.0000 - val_mean_absolute_error: 6899.1748\n",
      "Epoch 110/4000\n",
      "6/6 [==============================] - 0s 17ms/step - loss: 102887128.0000 - mean_absolute_error: 5939.7993 - val_loss: 191013296.0000 - val_mean_absolute_error: 6894.6152\n",
      "Epoch 111/4000\n",
      "6/6 [==============================] - 0s 17ms/step - loss: 102837984.0000 - mean_absolute_error: 5937.6885 - val_loss: 190956448.0000 - val_mean_absolute_error: 6892.3423\n",
      "Epoch 112/4000\n",
      "6/6 [==============================] - 0s 16ms/step - loss: 102788528.0000 - mean_absolute_error: 5933.5918 - val_loss: 190899232.0000 - val_mean_absolute_error: 6889.6104\n",
      "Epoch 113/4000\n",
      "6/6 [==============================] - 0s 17ms/step - loss: 102738936.0000 - mean_absolute_error: 5930.3579 - val_loss: 190841152.0000 - val_mean_absolute_error: 6884.4844\n",
      "Epoch 114/4000\n",
      "6/6 [==============================] - 0s 20ms/step - loss: 102689048.0000 - mean_absolute_error: 5926.5425 - val_loss: 190784272.0000 - val_mean_absolute_error: 6885.0381\n",
      "Epoch 115/4000\n",
      "6/6 [==============================] - 0s 20ms/step - loss: 102639104.0000 - mean_absolute_error: 5924.0522 - val_loss: 190725504.0000 - val_mean_absolute_error: 6880.0405\n",
      "Epoch 116/4000\n",
      "6/6 [==============================] - 0s 16ms/step - loss: 102588760.0000 - mean_absolute_error: 5920.6738 - val_loss: 190667472.0000 - val_mean_absolute_error: 6877.9688\n",
      "Epoch 117/4000\n",
      "6/6 [==============================] - 0s 16ms/step - loss: 102538424.0000 - mean_absolute_error: 5918.8345 - val_loss: 190608320.0000 - val_mean_absolute_error: 6872.7617\n",
      "Epoch 118/4000\n",
      "6/6 [==============================] - 0s 16ms/step - loss: 102487576.0000 - mean_absolute_error: 5914.5654 - val_loss: 190550112.0000 - val_mean_absolute_error: 6870.9492\n",
      "Epoch 119/4000\n",
      "6/6 [==============================] - 0s 17ms/step - loss: 102436640.0000 - mean_absolute_error: 5911.6943 - val_loss: 190490448.0000 - val_mean_absolute_error: 6867.7915\n",
      "Epoch 120/4000\n",
      "6/6 [==============================] - 0s 17ms/step - loss: 102385560.0000 - mean_absolute_error: 5909.4019 - val_loss: 190430656.0000 - val_mean_absolute_error: 6863.7056\n",
      "Epoch 121/4000\n",
      "6/6 [==============================] - 0s 16ms/step - loss: 102334016.0000 - mean_absolute_error: 5905.7290 - val_loss: 190370832.0000 - val_mean_absolute_error: 6860.2407\n",
      "Epoch 122/4000\n",
      "6/6 [==============================] - 0s 16ms/step - loss: 102282240.0000 - mean_absolute_error: 5902.2500 - val_loss: 190311088.0000 - val_mean_absolute_error: 6858.0552\n",
      "Epoch 123/4000\n",
      "6/6 [==============================] - 0s 16ms/step - loss: 102230296.0000 - mean_absolute_error: 5899.0923 - val_loss: 190250432.0000 - val_mean_absolute_error: 6854.5327\n",
      "Epoch 124/4000\n",
      "6/6 [==============================] - 0s 17ms/step - loss: 102180256.0000 - mean_absolute_error: 5896.1074 - val_loss: 190190240.0000 - val_mean_absolute_error: 6853.0732\n",
      "Epoch 125/4000\n",
      "6/6 [==============================] - 0s 17ms/step - loss: 102125696.0000 - mean_absolute_error: 5892.2607 - val_loss: 190129008.0000 - val_mean_absolute_error: 6849.3022\n",
      "Epoch 126/4000\n",
      "6/6 [==============================] - 0s 17ms/step - loss: 102073056.0000 - mean_absolute_error: 5889.9741 - val_loss: 190068176.0000 - val_mean_absolute_error: 6847.1846\n",
      "Epoch 127/4000\n",
      "6/6 [==============================] - 0s 16ms/step - loss: 102020096.0000 - mean_absolute_error: 5885.7725 - val_loss: 190006576.0000 - val_mean_absolute_error: 6843.9648\n",
      "Epoch 128/4000\n",
      "6/6 [==============================] - 0s 16ms/step - loss: 101966968.0000 - mean_absolute_error: 5883.1147 - val_loss: 189944960.0000 - val_mean_absolute_error: 6840.9258\n",
      "Epoch 129/4000\n",
      "6/6 [==============================] - 0s 16ms/step - loss: 101913528.0000 - mean_absolute_error: 5879.2153 - val_loss: 189882656.0000 - val_mean_absolute_error: 6837.5938\n",
      "Epoch 130/4000\n",
      "6/6 [==============================] - 0s 18ms/step - loss: 101859960.0000 - mean_absolute_error: 5877.8223 - val_loss: 189820624.0000 - val_mean_absolute_error: 6834.8213\n",
      "Epoch 131/4000\n",
      "6/6 [==============================] - 0s 17ms/step - loss: 101806008.0000 - mean_absolute_error: 5873.4302 - val_loss: 189757824.0000 - val_mean_absolute_error: 6831.6333\n",
      "Epoch 132/4000\n",
      "6/6 [==============================] - 0s 17ms/step - loss: 101752024.0000 - mean_absolute_error: 5872.8076 - val_loss: 189695600.0000 - val_mean_absolute_error: 6829.0400\n"
     ]
    },
    {
     "name": "stdout",
     "output_type": "stream",
     "text": [
      "Epoch 133/4000\n",
      "6/6 [==============================] - 0s 17ms/step - loss: 101697736.0000 - mean_absolute_error: 5869.9512 - val_loss: 189631584.0000 - val_mean_absolute_error: 6824.6279\n",
      "Epoch 134/4000\n",
      "6/6 [==============================] - 0s 16ms/step - loss: 101643176.0000 - mean_absolute_error: 5867.6816 - val_loss: 189569040.0000 - val_mean_absolute_error: 6822.2358\n",
      "Epoch 135/4000\n",
      "6/6 [==============================] - 0s 17ms/step - loss: 101588320.0000 - mean_absolute_error: 5863.6733 - val_loss: 189504272.0000 - val_mean_absolute_error: 6817.5264\n",
      "Epoch 136/4000\n",
      "6/6 [==============================] - 0s 16ms/step - loss: 101533464.0000 - mean_absolute_error: 5863.7227 - val_loss: 189440352.0000 - val_mean_absolute_error: 6815.1519\n",
      "Epoch 137/4000\n",
      "6/6 [==============================] - 0s 16ms/step - loss: 101477576.0000 - mean_absolute_error: 5856.9058 - val_loss: 189377296.0000 - val_mean_absolute_error: 6812.3867\n",
      "Epoch 138/4000\n",
      "6/6 [==============================] - 0s 17ms/step - loss: 101422328.0000 - mean_absolute_error: 5855.2114 - val_loss: 189311392.0000 - val_mean_absolute_error: 6808.4429\n",
      "Epoch 139/4000\n",
      "6/6 [==============================] - 0s 18ms/step - loss: 101366792.0000 - mean_absolute_error: 5855.6631 - val_loss: 189247568.0000 - val_mean_absolute_error: 6805.9473\n",
      "Epoch 140/4000\n",
      "6/6 [==============================] - 0s 16ms/step - loss: 101310096.0000 - mean_absolute_error: 5848.3452 - val_loss: 189182384.0000 - val_mean_absolute_error: 6802.9023\n",
      "Epoch 141/4000\n",
      "6/6 [==============================] - 0s 16ms/step - loss: 101253704.0000 - mean_absolute_error: 5844.0171 - val_loss: 189116224.0000 - val_mean_absolute_error: 6800.0571\n",
      "Epoch 142/4000\n",
      "6/6 [==============================] - 0s 17ms/step - loss: 101197032.0000 - mean_absolute_error: 5841.3711 - val_loss: 189051552.0000 - val_mean_absolute_error: 6797.3467\n",
      "Epoch 143/4000\n",
      "6/6 [==============================] - 0s 16ms/step - loss: 101140320.0000 - mean_absolute_error: 5838.0093 - val_loss: 188984496.0000 - val_mean_absolute_error: 6794.2349\n",
      "Epoch 144/4000\n",
      "6/6 [==============================] - 0s 16ms/step - loss: 101083320.0000 - mean_absolute_error: 5836.8413 - val_loss: 188918912.0000 - val_mean_absolute_error: 6791.2310\n",
      "Epoch 145/4000\n",
      "6/6 [==============================] - 0s 16ms/step - loss: 101025688.0000 - mean_absolute_error: 5830.5527 - val_loss: 188852032.0000 - val_mean_absolute_error: 6787.9756\n",
      "Epoch 146/4000\n",
      "6/6 [==============================] - 0s 18ms/step - loss: 100967944.0000 - mean_absolute_error: 5827.0024 - val_loss: 188785328.0000 - val_mean_absolute_error: 6784.9863\n",
      "Epoch 147/4000\n",
      "6/6 [==============================] - 0s 16ms/step - loss: 100910072.0000 - mean_absolute_error: 5823.6143 - val_loss: 188718368.0000 - val_mean_absolute_error: 6781.7949\n",
      "Epoch 148/4000\n",
      "6/6 [==============================] - 0s 16ms/step - loss: 100852016.0000 - mean_absolute_error: 5820.2549 - val_loss: 188651040.0000 - val_mean_absolute_error: 6779.0215\n",
      "Epoch 149/4000\n",
      "6/6 [==============================] - 0s 16ms/step - loss: 100793624.0000 - mean_absolute_error: 5816.8247 - val_loss: 188583456.0000 - val_mean_absolute_error: 6775.5225\n",
      "Epoch 150/4000\n",
      "6/6 [==============================] - 0s 17ms/step - loss: 100735120.0000 - mean_absolute_error: 5814.0347 - val_loss: 188515328.0000 - val_mean_absolute_error: 6772.7427\n",
      "Epoch 151/4000\n",
      "6/6 [==============================] - 0s 18ms/step - loss: 100676392.0000 - mean_absolute_error: 5811.9233 - val_loss: 188447648.0000 - val_mean_absolute_error: 6769.0259\n",
      "Epoch 152/4000\n",
      "6/6 [==============================] - 0s 17ms/step - loss: 100617768.0000 - mean_absolute_error: 5811.3608 - val_loss: 188378064.0000 - val_mean_absolute_error: 6765.2817\n",
      "Epoch 153/4000\n",
      "6/6 [==============================] - 0s 17ms/step - loss: 100558456.0000 - mean_absolute_error: 5808.7471 - val_loss: 188310720.0000 - val_mean_absolute_error: 6762.7651\n",
      "Epoch 154/4000\n",
      "6/6 [==============================] - 0s 17ms/step - loss: 100498976.0000 - mean_absolute_error: 5803.9419 - val_loss: 188240272.0000 - val_mean_absolute_error: 6758.6772\n",
      "Epoch 155/4000\n",
      "6/6 [==============================] - 0s 18ms/step - loss: 100439088.0000 - mean_absolute_error: 5801.2900 - val_loss: 188171472.0000 - val_mean_absolute_error: 6754.6694\n",
      "Epoch 156/4000\n",
      "6/6 [==============================] - 0s 18ms/step - loss: 100379080.0000 - mean_absolute_error: 5796.4395 - val_loss: 188101488.0000 - val_mean_absolute_error: 6752.3091\n",
      "Epoch 157/4000\n",
      "6/6 [==============================] - 0s 17ms/step - loss: 100319088.0000 - mean_absolute_error: 5795.9585 - val_loss: 188033024.0000 - val_mean_absolute_error: 6749.3574\n",
      "Epoch 158/4000\n",
      "6/6 [==============================] - 0s 16ms/step - loss: 100258664.0000 - mean_absolute_error: 5791.2021 - val_loss: 187961760.0000 - val_mean_absolute_error: 6746.1016\n",
      "Epoch 159/4000\n",
      "6/6 [==============================] - 0s 17ms/step - loss: 100198160.0000 - mean_absolute_error: 5791.0015 - val_loss: 187892928.0000 - val_mean_absolute_error: 6742.1040\n",
      "Epoch 160/4000\n",
      "6/6 [==============================] - 0s 16ms/step - loss: 100137080.0000 - mean_absolute_error: 5784.7192 - val_loss: 187820672.0000 - val_mean_absolute_error: 6738.1333\n",
      "Epoch 161/4000\n",
      "6/6 [==============================] - 0s 16ms/step - loss: 100075608.0000 - mean_absolute_error: 5780.1821 - val_loss: 187749696.0000 - val_mean_absolute_error: 6734.3467\n",
      "Epoch 162/4000\n",
      "6/6 [==============================] - 0s 16ms/step - loss: 100014136.0000 - mean_absolute_error: 5775.6055 - val_loss: 187678752.0000 - val_mean_absolute_error: 6731.8501\n",
      "Epoch 163/4000\n",
      "6/6 [==============================] - 0s 17ms/step - loss: 99952496.0000 - mean_absolute_error: 5772.0635 - val_loss: 187607392.0000 - val_mean_absolute_error: 6728.5273\n",
      "Epoch 164/4000\n",
      "6/6 [==============================] - 0s 17ms/step - loss: 99890648.0000 - mean_absolute_error: 5768.7114 - val_loss: 187535360.0000 - val_mean_absolute_error: 6725.0767\n",
      "Epoch 165/4000\n",
      "6/6 [==============================] - 0s 17ms/step - loss: 99828640.0000 - mean_absolute_error: 5766.0400 - val_loss: 187464000.0000 - val_mean_absolute_error: 6721.7407\n",
      "Epoch 166/4000\n",
      "6/6 [==============================] - 0s 16ms/step - loss: 99766576.0000 - mean_absolute_error: 5763.4634 - val_loss: 187390880.0000 - val_mean_absolute_error: 6718.6738\n",
      "Epoch 167/4000\n",
      "6/6 [==============================] - 0s 16ms/step - loss: 99704344.0000 - mean_absolute_error: 5763.6865 - val_loss: 187320784.0000 - val_mean_absolute_error: 6717.3623\n",
      "Epoch 168/4000\n",
      "6/6 [==============================] - 0s 16ms/step - loss: 99641712.0000 - mean_absolute_error: 5758.7681 - val_loss: 187246144.0000 - val_mean_absolute_error: 6712.9170\n",
      "Epoch 169/4000\n",
      "6/6 [==============================] - 0s 17ms/step - loss: 99579752.0000 - mean_absolute_error: 5762.2944 - val_loss: 187176912.0000 - val_mean_absolute_error: 6712.7388\n",
      "Epoch 170/4000\n",
      "6/6 [==============================] - 0s 17ms/step - loss: 99517536.0000 - mean_absolute_error: 5759.2070 - val_loss: 187100368.0000 - val_mean_absolute_error: 6707.0430\n",
      "Epoch 171/4000\n",
      "6/6 [==============================] - 0s 17ms/step - loss: 99454624.0000 - mean_absolute_error: 5762.2861 - val_loss: 187030512.0000 - val_mean_absolute_error: 6705.4468\n",
      "Epoch 172/4000\n",
      "6/6 [==============================] - 0s 17ms/step - loss: 99388888.0000 - mean_absolute_error: 5748.4482 - val_loss: 186960288.0000 - val_mean_absolute_error: 6703.3477\n",
      "Epoch 173/4000\n",
      "6/6 [==============================] - 0s 18ms/step - loss: 99325072.0000 - mean_absolute_error: 5743.5620 - val_loss: 186879280.0000 - val_mean_absolute_error: 6696.7002\n",
      "Epoch 174/4000\n",
      "6/6 [==============================] - 0s 18ms/step - loss: 99261048.0000 - mean_absolute_error: 5742.6616 - val_loss: 186805600.0000 - val_mean_absolute_error: 6694.0000\n",
      "Epoch 175/4000\n",
      "6/6 [==============================] - 0s 17ms/step - loss: 99196064.0000 - mean_absolute_error: 5734.1582 - val_loss: 186731568.0000 - val_mean_absolute_error: 6690.9624\n",
      "Epoch 176/4000\n",
      "6/6 [==============================] - 0s 17ms/step - loss: 99131624.0000 - mean_absolute_error: 5730.6558 - val_loss: 186655456.0000 - val_mean_absolute_error: 6687.1929\n"
     ]
    },
    {
     "name": "stdout",
     "output_type": "stream",
     "text": [
      "Epoch 177/4000\n",
      "6/6 [==============================] - 0s 17ms/step - loss: 99066824.0000 - mean_absolute_error: 5727.4517 - val_loss: 186581424.0000 - val_mean_absolute_error: 6684.9751\n",
      "Epoch 178/4000\n",
      "6/6 [==============================] - 0s 17ms/step - loss: 99001832.0000 - mean_absolute_error: 5723.2622 - val_loss: 186505424.0000 - val_mean_absolute_error: 6681.8315\n",
      "Epoch 179/4000\n",
      "6/6 [==============================] - 0s 17ms/step - loss: 98936680.0000 - mean_absolute_error: 5720.7666 - val_loss: 186430640.0000 - val_mean_absolute_error: 6679.7437\n",
      "Epoch 180/4000\n",
      "6/6 [==============================] - 0s 16ms/step - loss: 98871248.0000 - mean_absolute_error: 5716.5015 - val_loss: 186354432.0000 - val_mean_absolute_error: 6675.9355\n",
      "Epoch 181/4000\n",
      "6/6 [==============================] - 0s 16ms/step - loss: 98805648.0000 - mean_absolute_error: 5713.1450 - val_loss: 186278784.0000 - val_mean_absolute_error: 6672.8936\n",
      "Epoch 182/4000\n",
      "6/6 [==============================] - 0s 17ms/step - loss: 98739824.0000 - mean_absolute_error: 5709.6333 - val_loss: 186202448.0000 - val_mean_absolute_error: 6670.2856\n",
      "Epoch 183/4000\n",
      "6/6 [==============================] - 0s 17ms/step - loss: 98673768.0000 - mean_absolute_error: 5706.1294 - val_loss: 186126320.0000 - val_mean_absolute_error: 6667.7373\n",
      "Epoch 184/4000\n",
      "6/6 [==============================] - 0s 18ms/step - loss: 98607544.0000 - mean_absolute_error: 5702.7378 - val_loss: 186049392.0000 - val_mean_absolute_error: 6664.7314\n",
      "Epoch 185/4000\n",
      "6/6 [==============================] - 0s 18ms/step - loss: 98541096.0000 - mean_absolute_error: 5699.7271 - val_loss: 185972784.0000 - val_mean_absolute_error: 6662.1768\n",
      "Epoch 186/4000\n",
      "6/6 [==============================] - 0s 17ms/step - loss: 98474552.0000 - mean_absolute_error: 5697.8994 - val_loss: 185895776.0000 - val_mean_absolute_error: 6659.6650\n",
      "Epoch 187/4000\n",
      "6/6 [==============================] - 0s 17ms/step - loss: 98407848.0000 - mean_absolute_error: 5695.3125 - val_loss: 185818736.0000 - val_mean_absolute_error: 6656.6499\n",
      "Epoch 188/4000\n",
      "6/6 [==============================] - 0s 17ms/step - loss: 98341040.0000 - mean_absolute_error: 5693.7622 - val_loss: 185739744.0000 - val_mean_absolute_error: 6651.8198\n",
      "Epoch 189/4000\n",
      "6/6 [==============================] - 0s 16ms/step - loss: 98274104.0000 - mean_absolute_error: 5692.8501 - val_loss: 185663584.0000 - val_mean_absolute_error: 6650.2793\n",
      "Epoch 190/4000\n",
      "6/6 [==============================] - 0s 16ms/step - loss: 98206088.0000 - mean_absolute_error: 5685.2871 - val_loss: 185584288.0000 - val_mean_absolute_error: 6646.2935\n",
      "Epoch 191/4000\n",
      "6/6 [==============================] - 0s 16ms/step - loss: 98138576.0000 - mean_absolute_error: 5683.6611 - val_loss: 185507904.0000 - val_mean_absolute_error: 6644.0806\n",
      "Epoch 192/4000\n",
      "6/6 [==============================] - 0s 17ms/step - loss: 98070848.0000 - mean_absolute_error: 5681.1611 - val_loss: 185427584.0000 - val_mean_absolute_error: 6640.7710\n",
      "Epoch 193/4000\n",
      "6/6 [==============================] - 0s 16ms/step - loss: 98002680.0000 - mean_absolute_error: 5677.9902 - val_loss: 185351472.0000 - val_mean_absolute_error: 6640.6396\n",
      "Epoch 194/4000\n",
      "6/6 [==============================] - 0s 16ms/step - loss: 97934720.0000 - mean_absolute_error: 5674.8027 - val_loss: 185269712.0000 - val_mean_absolute_error: 6635.3887\n",
      "Epoch 195/4000\n",
      "6/6 [==============================] - 0s 19ms/step - loss: 97866160.0000 - mean_absolute_error: 5672.2783 - val_loss: 185193168.0000 - val_mean_absolute_error: 6634.2676\n",
      "Epoch 196/4000\n",
      "6/6 [==============================] - 0s 17ms/step - loss: 97913880.0000 - mean_absolute_error: 5674.1621 - val_loss: 185112672.0000 - val_mean_absolute_error: 6630.4556\n",
      "Epoch 197/4000\n",
      "6/6 [==============================] - 0s 16ms/step - loss: 97728592.0000 - mean_absolute_error: 5661.8135 - val_loss: 185034656.0000 - val_mean_absolute_error: 6628.0967\n",
      "Epoch 198/4000\n",
      "6/6 [==============================] - 0s 18ms/step - loss: 97659960.0000 - mean_absolute_error: 5657.5142 - val_loss: 184955360.0000 - val_mean_absolute_error: 6626.4043\n",
      "Epoch 199/4000\n",
      "6/6 [==============================] - 0s 18ms/step - loss: 97591048.0000 - mean_absolute_error: 5655.0264 - val_loss: 184875184.0000 - val_mean_absolute_error: 6622.5269\n",
      "Epoch 200/4000\n",
      "6/6 [==============================] - 0s 17ms/step - loss: 97521536.0000 - mean_absolute_error: 5650.2700 - val_loss: 184795744.0000 - val_mean_absolute_error: 6620.7515\n",
      "Epoch 201/4000\n",
      "6/6 [==============================] - 0s 18ms/step - loss: 97452200.0000 - mean_absolute_error: 5650.2710 - val_loss: 184713792.0000 - val_mean_absolute_error: 6616.2095\n",
      "Epoch 202/4000\n",
      "6/6 [==============================] - 0s 16ms/step - loss: 97382536.0000 - mean_absolute_error: 5649.0635 - val_loss: 184635536.0000 - val_mean_absolute_error: 6615.5830\n",
      "Epoch 203/4000\n",
      "6/6 [==============================] - 0s 17ms/step - loss: 97313016.0000 - mean_absolute_error: 5648.3408 - val_loss: 184550880.0000 - val_mean_absolute_error: 6608.7959\n",
      "Epoch 204/4000\n",
      "6/6 [==============================] - 0s 17ms/step - loss: 97242472.0000 - mean_absolute_error: 5643.1265 - val_loss: 184471552.0000 - val_mean_absolute_error: 6607.9248\n",
      "Epoch 205/4000\n",
      "6/6 [==============================] - 0s 16ms/step - loss: 97171584.0000 - mean_absolute_error: 5636.8027 - val_loss: 184390704.0000 - val_mean_absolute_error: 6605.7778\n",
      "Epoch 206/4000\n",
      "6/6 [==============================] - 0s 17ms/step - loss: 97100848.0000 - mean_absolute_error: 5633.7114 - val_loss: 184309760.0000 - val_mean_absolute_error: 6603.3286\n",
      "Epoch 207/4000\n",
      "6/6 [==============================] - 0s 17ms/step - loss: 97030032.0000 - mean_absolute_error: 5630.0210 - val_loss: 184227072.0000 - val_mean_absolute_error: 6598.8960\n",
      "Epoch 208/4000\n",
      "6/6 [==============================] - 0s 17ms/step - loss: 96958848.0000 - mean_absolute_error: 5626.0962 - val_loss: 184144768.0000 - val_mean_absolute_error: 6596.0220\n",
      "Epoch 209/4000\n",
      "6/6 [==============================] - 0s 17ms/step - loss: 96887624.0000 - mean_absolute_error: 5623.9404 - val_loss: 184064704.0000 - val_mean_absolute_error: 6593.2710\n",
      "Epoch 210/4000\n",
      "6/6 [==============================] - 0s 17ms/step - loss: 96816312.0000 - mean_absolute_error: 5621.3853 - val_loss: 183981552.0000 - val_mean_absolute_error: 6590.7114\n",
      "Epoch 211/4000\n",
      "6/6 [==============================] - 0s 17ms/step - loss: 96744720.0000 - mean_absolute_error: 5619.0596 - val_loss: 183900608.0000 - val_mean_absolute_error: 6588.2749\n",
      "Epoch 212/4000\n",
      "6/6 [==============================] - 0s 16ms/step - loss: 96756624.0000 - mean_absolute_error: 5618.3491 - val_loss: 183814000.0000 - val_mean_absolute_error: 6583.7104\n",
      "Epoch 213/4000\n",
      "6/6 [==============================] - 0s 16ms/step - loss: 96601288.0000 - mean_absolute_error: 5613.2822 - val_loss: 183735152.0000 - val_mean_absolute_error: 6584.1538\n",
      "Epoch 214/4000\n",
      "6/6 [==============================] - 0s 17ms/step - loss: 96968656.0000 - mean_absolute_error: 5630.1548 - val_loss: 184251440.0000 - val_mean_absolute_error: 6601.4897\n",
      "Epoch 215/4000\n",
      "6/6 [==============================] - 0s 17ms/step - loss: 96981888.0000 - mean_absolute_error: 5633.8638 - val_loss: 184184160.0000 - val_mean_absolute_error: 6603.4868\n",
      "Epoch 216/4000\n",
      "6/6 [==============================] - 0s 16ms/step - loss: 96913456.0000 - mean_absolute_error: 5635.5483 - val_loss: 184091168.0000 - val_mean_absolute_error: 6594.9785\n",
      "Epoch 217/4000\n",
      "6/6 [==============================] - 0s 17ms/step - loss: 96846488.0000 - mean_absolute_error: 5642.4863 - val_loss: 184027280.0000 - val_mean_absolute_error: 6598.9351\n",
      "Epoch 218/4000\n",
      "6/6 [==============================] - 0s 17ms/step - loss: 96773192.0000 - mean_absolute_error: 5625.1934 - val_loss: 183931616.0000 - val_mean_absolute_error: 6592.8838\n",
      "Epoch 219/4000\n",
      "6/6 [==============================] - 0s 16ms/step - loss: 96705112.0000 - mean_absolute_error: 5634.3052 - val_loss: 183887904.0000 - val_mean_absolute_error: 6600.4717\n"
     ]
    }
   ],
   "source": [
    "linear = tf.keras.Sequential([\n",
    "    keras.layers.LSTM(32),\n",
    "    tf.keras.layers.Dense(units=16, activation=\"relu\"),\n",
    "    tf.keras.layers.Dense(units=1)\n",
    "\n",
    "    \n",
    "])\n",
    "early_stopping = tf.keras.callbacks.EarlyStopping(monitor='val_loss',\n",
    "                                                    patience=6,\n",
    "                                                    mode='min')\n",
    "\n",
    "linear.compile(loss=tf.keras.losses.MeanSquaredError(),\n",
    "                optimizer=tf.keras.optimizers.Adam(),\n",
    "                metrics=[tf.keras.metrics.MeanAbsoluteError()])\n",
    "\n",
    "history = linear.fit(dataset_train, \n",
    "                     epochs=4000,\n",
    "                     batch_size=300,\n",
    "                     validation_data=dataset_val,\n",
    "                     callbacks=[early_stopping])"
   ]
  },
  {
   "cell_type": "code",
   "execution_count": 50,
   "metadata": {},
   "outputs": [
    {
     "name": "stdout",
     "output_type": "stream",
     "text": [
      "10/10 [==============================] - 0s 1ms/step\n"
     ]
    }
   ],
   "source": [
    "lpred = linear.predict(x_val)"
   ]
  },
  {
   "cell_type": "code",
   "execution_count": 31,
   "metadata": {},
   "outputs": [],
   "source": [
    "# https://www.kaggle.com/code/arpandas65/covid-19-projection-using-lstm\n",
    "# https://deepbas.io/2022/03/23/how-to-predict-covid-case-counts-using-machine-learning-models/"
   ]
  },
  {
   "cell_type": "code",
   "execution_count": 32,
   "metadata": {},
   "outputs": [],
   "source": [
    "from keras.models import Sequential\n",
    "from keras.layers import Dense, SimpleRNN"
   ]
  },
  {
   "cell_type": "code",
   "execution_count": 33,
   "metadata": {},
   "outputs": [
    {
     "name": "stdout",
     "output_type": "stream",
     "text": [
      "Model: \"sequential_1\"\n",
      "_________________________________________________________________\n",
      " Layer (type)                Output Shape              Param #   \n",
      "=================================================================\n",
      " simple_rnn (SimpleRNN)      (None, 32)                1088      \n",
      "                                                                 \n",
      " dense_1 (Dense)             (None, 16)                528       \n",
      "                                                                 \n",
      " dense_2 (Dense)             (None, 1)                 17        \n",
      "                                                                 \n",
      "=================================================================\n",
      "Total params: 1,633\n",
      "Trainable params: 1,633\n",
      "Non-trainable params: 0\n",
      "_________________________________________________________________\n",
      "Epoch 1/100\n",
      "22/22 [==============================] - 1s 2ms/step - loss: 23147718.0000\n",
      "Epoch 2/100\n",
      "22/22 [==============================] - 0s 2ms/step - loss: 9298606.0000\n",
      "Epoch 3/100\n",
      "22/22 [==============================] - 0s 2ms/step - loss: 7105471.5000\n",
      "Epoch 4/100\n",
      "22/22 [==============================] - 0s 2ms/step - loss: 7245076.0000\n",
      "Epoch 5/100\n",
      "22/22 [==============================] - 0s 1ms/step - loss: 7155514.0000\n",
      "Epoch 6/100\n",
      "22/22 [==============================] - 0s 1ms/step - loss: 7186245.5000\n",
      "Epoch 7/100\n",
      "22/22 [==============================] - 0s 1ms/step - loss: 7191798.0000\n",
      "Epoch 8/100\n",
      "22/22 [==============================] - 0s 1ms/step - loss: 7147678.0000\n",
      "Epoch 9/100\n",
      "22/22 [==============================] - 0s 1ms/step - loss: 7188757.5000\n",
      "Epoch 10/100\n",
      "22/22 [==============================] - 0s 1ms/step - loss: 7157823.0000\n",
      "Epoch 11/100\n",
      "22/22 [==============================] - 0s 1ms/step - loss: 7205739.5000\n",
      "Epoch 12/100\n",
      "22/22 [==============================] - 0s 1ms/step - loss: 7294232.5000\n",
      "Epoch 13/100\n",
      "22/22 [==============================] - 0s 1ms/step - loss: 7208913.0000\n",
      "Epoch 14/100\n",
      "22/22 [==============================] - 0s 1ms/step - loss: 7148132.0000\n",
      "Epoch 15/100\n",
      "22/22 [==============================] - 0s 1ms/step - loss: 7195555.5000\n",
      "Epoch 16/100\n",
      "22/22 [==============================] - 0s 1ms/step - loss: 7173994.5000\n",
      "Epoch 17/100\n",
      "22/22 [==============================] - 0s 1ms/step - loss: 7153181.0000\n",
      "Epoch 18/100\n",
      "22/22 [==============================] - 0s 1ms/step - loss: 7176302.0000\n",
      "Epoch 19/100\n",
      "22/22 [==============================] - 0s 2ms/step - loss: 7180559.0000\n",
      "Epoch 20/100\n",
      "22/22 [==============================] - 0s 1ms/step - loss: 7190639.5000\n",
      "Epoch 21/100\n",
      "22/22 [==============================] - 0s 1ms/step - loss: 7148492.5000\n",
      "Epoch 22/100\n",
      "22/22 [==============================] - 0s 2ms/step - loss: 7140070.5000\n",
      "Epoch 23/100\n",
      "22/22 [==============================] - 0s 1ms/step - loss: 7170704.0000\n",
      "Epoch 24/100\n",
      "22/22 [==============================] - 0s 1ms/step - loss: 7184746.5000\n",
      "Epoch 25/100\n",
      "22/22 [==============================] - 0s 1ms/step - loss: 7164599.5000\n",
      "Epoch 26/100\n",
      "22/22 [==============================] - 0s 1ms/step - loss: 7167739.0000\n",
      "Epoch 27/100\n",
      "22/22 [==============================] - 0s 1ms/step - loss: 7154454.5000\n",
      "Epoch 28/100\n",
      "22/22 [==============================] - 0s 1ms/step - loss: 7197179.5000\n",
      "Epoch 29/100\n",
      "22/22 [==============================] - 0s 1ms/step - loss: 7178626.0000\n",
      "Epoch 30/100\n",
      "22/22 [==============================] - 0s 1ms/step - loss: 7149820.5000\n",
      "Epoch 31/100\n",
      "22/22 [==============================] - 0s 1ms/step - loss: 7165347.5000\n",
      "Epoch 32/100\n",
      "22/22 [==============================] - 0s 1ms/step - loss: 7255135.5000\n",
      "Epoch 33/100\n",
      "22/22 [==============================] - 0s 1ms/step - loss: 7157889.0000\n",
      "Epoch 34/100\n",
      "22/22 [==============================] - 0s 1ms/step - loss: 7158348.0000\n",
      "Epoch 35/100\n",
      "22/22 [==============================] - 0s 1ms/step - loss: 7231174.0000\n",
      "Epoch 36/100\n",
      "22/22 [==============================] - 0s 1ms/step - loss: 7196125.0000\n",
      "Epoch 37/100\n",
      "22/22 [==============================] - 0s 1ms/step - loss: 7187777.5000\n",
      "Epoch 38/100\n",
      "22/22 [==============================] - 0s 1ms/step - loss: 7152677.0000\n",
      "Epoch 39/100\n",
      "22/22 [==============================] - 0s 1ms/step - loss: 7142165.0000\n",
      "Epoch 40/100\n",
      "22/22 [==============================] - 0s 1ms/step - loss: 7176329.5000\n",
      "Epoch 41/100\n",
      "22/22 [==============================] - 0s 1ms/step - loss: 7208657.5000\n",
      "Epoch 42/100\n",
      "22/22 [==============================] - 0s 1ms/step - loss: 7204591.0000\n",
      "Epoch 43/100\n",
      "22/22 [==============================] - 0s 1ms/step - loss: 7177883.5000\n",
      "Epoch 44/100\n",
      "22/22 [==============================] - 0s 1ms/step - loss: 7212521.0000\n",
      "Epoch 45/100\n",
      "22/22 [==============================] - 0s 1ms/step - loss: 7190579.0000\n",
      "Epoch 46/100\n",
      "22/22 [==============================] - 0s 2ms/step - loss: 7189829.5000\n",
      "Epoch 47/100\n",
      "22/22 [==============================] - 0s 1ms/step - loss: 7245769.5000\n",
      "Epoch 48/100\n",
      "22/22 [==============================] - 0s 1ms/step - loss: 7159343.0000\n",
      "Epoch 49/100\n",
      "22/22 [==============================] - 0s 1ms/step - loss: 7192831.5000\n",
      "Epoch 50/100\n",
      "22/22 [==============================] - 0s 1ms/step - loss: 7162803.5000\n",
      "Epoch 51/100\n",
      "22/22 [==============================] - 0s 1ms/step - loss: 7136042.0000\n",
      "Epoch 52/100\n",
      "22/22 [==============================] - 0s 1ms/step - loss: 7181171.0000\n",
      "Epoch 53/100\n",
      "22/22 [==============================] - 0s 1ms/step - loss: 7307542.5000\n",
      "Epoch 54/100\n",
      "22/22 [==============================] - 0s 1ms/step - loss: 7172102.0000\n",
      "Epoch 55/100\n",
      "22/22 [==============================] - 0s 1ms/step - loss: 7146111.5000\n",
      "Epoch 56/100\n",
      "22/22 [==============================] - 0s 1ms/step - loss: 7167214.0000\n",
      "Epoch 57/100\n",
      "22/22 [==============================] - 0s 1ms/step - loss: 7190024.5000\n",
      "Epoch 58/100\n",
      "22/22 [==============================] - 0s 1ms/step - loss: 7152799.5000\n",
      "Epoch 59/100\n",
      "22/22 [==============================] - 0s 1ms/step - loss: 7215375.0000\n",
      "Epoch 60/100\n",
      "22/22 [==============================] - 0s 1ms/step - loss: 7220343.0000\n",
      "Epoch 61/100\n",
      "22/22 [==============================] - 0s 1ms/step - loss: 7169361.0000\n",
      "Epoch 62/100\n",
      "22/22 [==============================] - 0s 1ms/step - loss: 7168613.0000\n",
      "Epoch 63/100\n",
      "22/22 [==============================] - 0s 1ms/step - loss: 7222986.5000\n",
      "Epoch 64/100\n",
      "22/22 [==============================] - 0s 1ms/step - loss: 7205320.5000\n",
      "Epoch 65/100\n",
      "22/22 [==============================] - 0s 1ms/step - loss: 8085265.0000\n",
      "Epoch 66/100\n",
      "22/22 [==============================] - 0s 1ms/step - loss: 7274175.0000\n",
      "Epoch 67/100\n",
      "22/22 [==============================] - 0s 1ms/step - loss: 7295221.0000\n",
      "Epoch 68/100\n",
      "22/22 [==============================] - 0s 1ms/step - loss: 7188031.0000\n",
      "Epoch 69/100\n",
      "22/22 [==============================] - 0s 2ms/step - loss: 7217680.0000\n",
      "Epoch 70/100\n",
      "22/22 [==============================] - 0s 1ms/step - loss: 7217827.0000\n",
      "Epoch 71/100\n",
      "22/22 [==============================] - 0s 1ms/step - loss: 7181304.5000\n",
      "Epoch 72/100\n",
      "22/22 [==============================] - 0s 1ms/step - loss: 7221845.0000\n",
      "Epoch 73/100\n",
      "22/22 [==============================] - 0s 1ms/step - loss: 7132631.0000\n",
      "Epoch 74/100\n",
      "22/22 [==============================] - 0s 1ms/step - loss: 7164366.0000\n",
      "Epoch 75/100\n",
      "22/22 [==============================] - 0s 1ms/step - loss: 7222238.5000\n",
      "Epoch 76/100\n",
      "22/22 [==============================] - 0s 1ms/step - loss: 7151440.0000\n",
      "Epoch 77/100\n",
      "22/22 [==============================] - 0s 2ms/step - loss: 7191566.5000\n",
      "Epoch 78/100\n",
      "22/22 [==============================] - 0s 1ms/step - loss: 7148818.5000\n",
      "Epoch 79/100\n",
      "22/22 [==============================] - 0s 1ms/step - loss: 7144763.0000\n",
      "Epoch 80/100\n",
      "22/22 [==============================] - 0s 1ms/step - loss: 7176224.0000\n",
      "Epoch 81/100\n",
      "22/22 [==============================] - 0s 1ms/step - loss: 7213355.5000\n",
      "Epoch 82/100\n",
      "22/22 [==============================] - 0s 1ms/step - loss: 7158395.0000\n",
      "Epoch 83/100\n",
      "22/22 [==============================] - 0s 1ms/step - loss: 7159981.0000\n",
      "Epoch 84/100\n",
      "22/22 [==============================] - 0s 1ms/step - loss: 7136475.0000\n",
      "Epoch 85/100\n",
      "22/22 [==============================] - 0s 1ms/step - loss: 7177865.5000\n",
      "Epoch 86/100\n",
      "22/22 [==============================] - 0s 1ms/step - loss: 7169427.5000\n",
      "Epoch 87/100\n",
      "22/22 [==============================] - 0s 1ms/step - loss: 7153238.5000\n",
      "Epoch 88/100\n",
      "22/22 [==============================] - 0s 1ms/step - loss: 7195189.0000\n",
      "Epoch 89/100\n",
      "22/22 [==============================] - 0s 1ms/step - loss: 7162245.0000\n",
      "Epoch 90/100\n",
      "22/22 [==============================] - 0s 1ms/step - loss: 7157563.5000\n",
      "Epoch 91/100\n",
      "22/22 [==============================] - 0s 1ms/step - loss: 7212527.5000\n",
      "Epoch 92/100\n",
      "22/22 [==============================] - 0s 1ms/step - loss: 7204541.5000\n",
      "Epoch 93/100\n",
      "22/22 [==============================] - 0s 1ms/step - loss: 7211841.5000\n",
      "Epoch 94/100\n",
      "22/22 [==============================] - 0s 1ms/step - loss: 7137579.5000\n",
      "Epoch 95/100\n",
      "22/22 [==============================] - 0s 1ms/step - loss: 7178117.0000\n",
      "Epoch 96/100\n",
      "22/22 [==============================] - 0s 1ms/step - loss: 7178500.0000\n",
      "Epoch 97/100\n",
      "22/22 [==============================] - 0s 1ms/step - loss: 7193155.5000\n",
      "Epoch 98/100\n",
      "22/22 [==============================] - 0s 1ms/step - loss: 7201902.0000\n",
      "Epoch 99/100\n",
      "22/22 [==============================] - 0s 1ms/step - loss: 7171950.5000\n",
      "Epoch 100/100\n",
      "22/22 [==============================] - 0s 1ms/step - loss: 7371582.0000\n"
     ]
    }
   ],
   "source": [
    "model = Sequential()\n",
    "\n",
    "model.add(SimpleRNN(units=32, input_shape=(1, 1), activation=\"relu\")) \n",
    "model.add(Dense(16, activation=\"relu\")) \n",
    "model.add(Dense(1))\n",
    "\n",
    "model.compile(loss='mse', optimizer='adam') \n",
    "# model.compile(loss='mae', optimizer='adam') \n",
    " \n",
    "model.summary()\n",
    "hist = model.fit(x_train, y_train,\n",
    "                     epochs=100,\n",
    "                )"
   ]
  },
  {
   "cell_type": "code",
   "execution_count": 34,
   "metadata": {},
   "outputs": [
    {
     "name": "stdout",
     "output_type": "stream",
     "text": [
      "10/10 [==============================] - 0s 984us/step\n"
     ]
    }
   ],
   "source": [
    "predicted = model.predict(x_val)"
   ]
  },
  {
   "cell_type": "code",
   "execution_count": 35,
   "metadata": {},
   "outputs": [
    {
     "data": {
      "text/plain": [
       "10137979.383510962"
      ]
     },
     "execution_count": 35,
     "metadata": {},
     "output_type": "execute_result"
    }
   ],
   "source": [
    "from sklearn.metrics import mean_squared_error\n",
    "mean_squared_error(y_val, predicted)"
   ]
  },
  {
   "cell_type": "code",
   "execution_count": 36,
   "metadata": {},
   "outputs": [
    {
     "data": {
      "text/plain": [
       "25702944.727488168"
      ]
     },
     "execution_count": 36,
     "metadata": {},
     "output_type": "execute_result"
    }
   ],
   "source": [
    "mean_squared_error(y_val, pp)"
   ]
  },
  {
   "cell_type": "code",
   "execution_count": 51,
   "metadata": {},
   "outputs": [
    {
     "data": {
      "text/plain": [
       "180747983.77253142"
      ]
     },
     "execution_count": 51,
     "metadata": {},
     "output_type": "execute_result"
    }
   ],
   "source": [
    "mean_squared_error(y_val, lpred.squeeze())"
   ]
  },
  {
   "cell_type": "code",
   "execution_count": 37,
   "metadata": {},
   "outputs": [
    {
     "data": {
      "text/plain": [
       "array([10035.951], dtype=float32)"
      ]
     },
     "execution_count": 37,
     "metadata": {},
     "output_type": "execute_result"
    }
   ],
   "source": [
    "predicted[:10][9]"
   ]
  },
  {
   "cell_type": "code",
   "execution_count": 38,
   "metadata": {},
   "outputs": [
    {
     "data": {
      "text/plain": [
       "19648.0"
      ]
     },
     "execution_count": 38,
     "metadata": {},
     "output_type": "execute_result"
    }
   ],
   "source": [
    "y_val[:10][9]"
   ]
  },
  {
   "cell_type": "code",
   "execution_count": null,
   "metadata": {},
   "outputs": [],
   "source": []
  }
 ],
 "metadata": {
  "kernelspec": {
   "display_name": "mlpy39",
   "language": "python",
   "name": "mlpy39"
  },
  "language_info": {
   "codemirror_mode": {
    "name": "ipython",
    "version": 3
   },
   "file_extension": ".py",
   "mimetype": "text/x-python",
   "name": "python",
   "nbconvert_exporter": "python",
   "pygments_lexer": "ipython3",
   "version": "3.9.13"
  }
 },
 "nbformat": 4,
 "nbformat_minor": 1
}
